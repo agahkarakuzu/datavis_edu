{
 "cells": [
  {
   "cell_type": "markdown",
   "metadata": {},
   "source": [
    "## Note\n",
    "\n",
    "### This notebook assumes that you are familiar with NumPy & Pandas. No worries if you are not! \n",
    "\n",
    "Like music & MRI? You can learn NumPy and SciPy as you are making music using MRI sounds: \n",
    "\n",
    "https://www.loom.com/share/4b08c4df903c40b397e87b2ec9de572d\n",
    "\n",
    "GitHub repo: https://github.com/agahkarakuzu/sunrise"
   ]
  },
  {
   "cell_type": "markdown",
   "metadata": {
    "hide_input": false
   },
   "source": [
    "## If you are using Plotly for the first time, lucky you! \n",
    "\n",
    "> `plotly.express` is to `plotly` what `seaborn` is to `matplotlib`\n",
    "\n",
    "If you know what `seaborn` and `matplotlib` are, you won't need further explanation to understand what `plotly.express` has to offer. If you are not familiar with any of these, forget what I just said and focus on the examples. \n",
    "\n",
    "See how you can create superb interactive figures with a single line of code! \n",
    "\n",
    "I assume that you are familiar with [tidy Pandas data frame](https://www.jeannicholashould.com/tidy-data-in-python.html). If you've never heard such a thing before, give it a quick read before proceeding, because this is the data format accepted by `plotly.express`. \n",
    "\n",
    "> Plotly Express supports a wide variety of charts, including otherwise verbose-to-create animations, facetted plots and multidimensional plots like Scatterplot Matrices (SPLOMs), Parallel Coordinates and Parallel Categories plots."
   ]
  },
  {
   "cell_type": "code",
   "execution_count": null,
   "metadata": {},
   "outputs": [],
   "source": [
    "import plotly.express as px"
   ]
  },
  {
   "cell_type": "markdown",
   "metadata": {},
   "source": [
    "In the older version of Plotly, at this stage, you had to `init_notebook_mode()` and tell plotly that you will be using it offline. Good news: \n",
    "\n",
    "* Now plotly can automatically detect which renderer to use! \n",
    "* Plus, you don't have to write extra code to tell Plotly you will be working offline. Plotly figures now have the ability to display themselves in the following contexts:\n",
    "   * JupyterLab & classic Jupyter notebook\n",
    "   * Other notebooks like Colab, nteract, Azure & Kaggle\n",
    "   * IDEs and CLIs like VSCode, PyCharm, QtConsole & Spyder\n",
    "   * Other contexts such as sphinx-gallery\n",
    "   * Dash apps (with dash_core_components.Graph())\n",
    "   * Static raster and vector files (with fig.write_image())\n",
    "   * Standalone interactive HTML files (with fig.write_html())\n",
    "   * Embedded into any website (with fig.to_json() and Plotly.js)"
   ]
  },
  {
   "cell_type": "markdown",
   "metadata": {},
   "source": [
    "Now lets import the famous `iris` dataset, which comes with `plotly.express` and display it. \n",
    "\n",
    "![](https://miro.medium.com/max/3500/1*f6KbPXwksAliMIsibFyGJw.png)\n",
    "Hint: Plotly 4.0 supports tab completion as well! Type `px.` then hit the tab from your keyboard. Available methods and attributes will appear in a dropdown list. "
   ]
  },
  {
   "cell_type": "code",
   "execution_count": null,
   "metadata": {},
   "outputs": [],
   "source": [
    "# Read iris data into the variable named iris \n",
    "iris = px.data.iris()\n",
    "\n",
    "# Display first last 5 rows of the dataframe \n",
    "iris.tail()"
   ]
  },
  {
   "cell_type": "markdown",
   "metadata": {},
   "source": [
    "## Create scatter plots\n",
    "\n",
    "As you see, `iris` dataset has 6 columns, each having their own label. Now let's take a look at how `sepal_width` is corralated with `sepal_length`. "
   ]
  },
  {
   "cell_type": "code",
   "execution_count": null,
   "metadata": {},
   "outputs": [],
   "source": [
    "fig = px.scatter(iris, x=\"sepal_width\", y=\"sepal_length\")\n",
    "fig.show()"
   ]
  },
  {
   "cell_type": "markdown",
   "metadata": {},
   "source": [
    "Yes, that easy! 🎉\n",
    "\n",
    "You can change the column indexes to observe other correlations such as `petal_length` and `petal_height`. What if you were also able to color markers with respect to the `species` category? Well, all it takes is to pass another argument :) "
   ]
  },
  {
   "cell_type": "code",
   "execution_count": null,
   "metadata": {},
   "outputs": [],
   "source": [
    "fig = px.scatter(iris, x=\"sepal_width\", y=\"sepal_length\",color='species')\n",
    "fig.show()"
   ]
  },
  {
   "cell_type": "markdown",
   "metadata": {},
   "source": [
    "💬**Scatter plots are not enough! I want my histograms displayed on their respective axes.** \n",
    "\n",
    "👏Plotly express got you covered. "
   ]
  },
  {
   "cell_type": "code",
   "execution_count": null,
   "metadata": {},
   "outputs": [],
   "source": [
    "fig = px.scatter(iris, x=\"sepal_width\", y=\"sepal_length\", color=\"species\", marginal_y=\"rug\", marginal_x=\"histogram\")\n",
    "fig.show()"
   ]
  },
  {
   "cell_type": "markdown",
   "metadata": {},
   "source": [
    "🙄Of course scatter plots need their best fit line. \n",
    "\n",
    "And why not show `boxplots` or `violinpots` instead of histograms and rug lines? 🚀"
   ]
  },
  {
   "cell_type": "code",
   "execution_count": null,
   "metadata": {},
   "outputs": [],
   "source": [
    "fig = px.scatter(iris, x=\"sepal_width\", y=\"sepal_length\", color=\"species\", marginal_y=\"violin\",\n",
    "           marginal_x=\"box\", trendline=\"ols\")\n",
    "fig.show()"
   ]
  },
  {
   "cell_type": "markdown",
   "metadata": {},
   "source": [
    "- What is better than a scatter plot? \n",
    "> A scatter plot matrix! 🤯\n",
    "\n",
    "You can explore cross-filtering ability of SPLOM charts in plotly. Hover your cursor over a point cloud in one of the panels, and select a poriton of them by left click + dragging. Selected data points will be highlighted in the remaining sub-panels! Double click to reset."
   ]
  },
  {
   "cell_type": "code",
   "execution_count": null,
   "metadata": {},
   "outputs": [],
   "source": [
    "fig = px.scatter_matrix(iris, dimensions=[\"sepal_width\", \"sepal_length\", \"petal_width\", \"petal_length\"], color=\"species\")\n",
    "fig.show()"
   ]
  },
  {
   "cell_type": "markdown",
   "metadata": {},
   "source": [
    "## Remember parallel sets? Let's create one\n",
    "\n",
    "In [the presentation](https://zenodo.org/record/3841775#.XsqgFJ5Kg1I), we saw that parallel set can be useful for visualization of proportions if there are more than two grouping variables are present. \n",
    "\n",
    "In this example, we will be working with the `tips` dataset, which has five grouping conditions: `sex`, `smoker`, `day`, `time`, `size`. Each of these will represent a column, and each column will be split into number of pieces equal to the unique entries listed in the corresponding category. \n",
    "\n",
    "Each row represents a restaurant bill."
   ]
  },
  {
   "cell_type": "code",
   "execution_count": null,
   "metadata": {},
   "outputs": [],
   "source": [
    "tips = px.data.tips()\n",
    "tips.tail()"
   ]
  },
  {
   "cell_type": "code",
   "execution_count": null,
   "metadata": {},
   "outputs": [],
   "source": [
    "# Hint: You can change colorscale. Type px.colors.sequential. then hit tab :) \n",
    "fig = px.parallel_categories(tips, color=\"total_bill\", dimensions=['sex','smoker','day','time','size'], color_continuous_scale='viridis',template='plotly_dark')\n",
    "fig.show()"
   ]
  },
  {
   "cell_type": "markdown",
   "metadata": {},
   "source": [
    "### Sunburst chart & Treemap\n",
    "**Data:** A `pandas.DataFrame` with 1704 rows and the following columns:\n",
    "\n",
    "`['country', 'continent', 'year', 'lifeExp', 'pop', 'gdpPercap',iso_alpha', 'iso_num']`."
   ]
  },
  {
   "cell_type": "code",
   "execution_count": null,
   "metadata": {},
   "outputs": [],
   "source": [
    "df = px.data.gapminder().query(\"year == 2007\")\n",
    "fig = px.sunburst(df, path=['continent', 'country'], values='pop',\n",
    "                  color='lifeExp', hover_data=['iso_alpha'],color_continuous_scale='viridis',template='plotly_white')\n",
    "fig.show()"
   ]
  },
  {
   "cell_type": "markdown",
   "metadata": {},
   "source": [
    "## Polar coordinates\n",
    "**Data**: Level of wind intensity in a cardinal direction, and its frequency.\n",
    "\n",
    "- Scatter polar\n",
    "- Line polar \n",
    "- Bar polar"
   ]
  },
  {
   "cell_type": "code",
   "execution_count": null,
   "metadata": {},
   "outputs": [],
   "source": [
    "df = px.data.wind()\n",
    "fig = px.scatter_polar(df, r=\"frequency\", theta=\"direction\", color=\"strength\", symbol=\"strength\",\n",
    "            color_discrete_sequence=px.colors.sequential.Plasma_r, template='plotly_dark')\n",
    "fig.show()"
   ]
  },
  {
   "cell_type": "markdown",
   "metadata": {},
   "source": [
    "## Ternary plot\n",
    "**Data:** Results for an electoral district in the 2013 Montreal mayoral election."
   ]
  },
  {
   "cell_type": "code",
   "execution_count": null,
   "metadata": {},
   "outputs": [],
   "source": [
    "df = px.data.election()\n",
    "fig = px.scatter_ternary(df, a=\"Joly\", b=\"Coderre\", c=\"Bergeron\", color=\"winner\", size=\"total\", hover_name=\"district\",\n",
    "                   size_max=15, color_discrete_map = {\"Joly\": \"blue\", \"Bergeron\": \"green\", \"Coderre\":\"red\"}, template=\"plotly_dark\" )\n",
    "fig.show()"
   ]
  },
  {
   "cell_type": "markdown",
   "metadata": {},
   "source": [
    "## See all available `px` charts, attributes and more \n",
    "\n",
    "Plotly express gives you the liberty to change visual attributes of the plots as you like! There are many other charts made available out of the box, all can be plotted with a single line of code. \n",
    "\n",
    "### Here is the [complete reference documentation](https://www.plotly.express/plotly_express/) for `plotly.express`."
   ]
  },
  {
   "cell_type": "markdown",
   "metadata": {},
   "source": [
    "## Saving the best for the last \n",
    "\n",
    "Remember I said \n",
    "\n",
    "> including otherwise verbose-to-create animations\n",
    "\n",
    "at the beginning of this notebook? Show time! \n",
    "\n",
    "Lets load `gapminder` dataset and observe the relationship between life expectancy and gdp per capita from 1952 to 2017 for five continents. "
   ]
  },
  {
   "cell_type": "code",
   "execution_count": null,
   "metadata": {},
   "outputs": [],
   "source": [
    "gapminder = px.data.gapminder()\n",
    "gapminder.tail()"
   ]
  },
  {
   "cell_type": "code",
   "execution_count": null,
   "metadata": {},
   "outputs": [],
   "source": [
    "fig = px.scatter(gapminder, x=\"gdpPercap\", y=\"lifeExp\", animation_frame=\"year\", animation_group=\"country\",\n",
    "           size=\"pop\", color=\"continent\", hover_name=\"country\", facet_col=\"continent\",\n",
    "           log_x=True, size_max=45, range_x=[100,100000], range_y=[25,90])\n",
    "fig.show()"
   ]
  },
  {
   "cell_type": "markdown",
   "metadata": {},
   "source": [
    "👽I know you like dark themes. "
   ]
  },
  {
   "cell_type": "code",
   "execution_count": null,
   "metadata": {},
   "outputs": [],
   "source": [
    "# See the last argument (template) I passed to the function. To see other alternatives \n",
    "# visit https://plot.ly/python/templates/ \n",
    "\n",
    "fig = px.scatter(gapminder, x=\"gdpPercap\", y=\"lifeExp\", animation_frame=\"year\", animation_group=\"country\",\n",
    "           size=\"pop\", color=\"continent\", hover_name=\"country\", facet_col=\"continent\",\n",
    "           log_x=True, size_max=45, range_x=[100,100000], range_y=[25,90], template=\"plotly_dark\")\n",
    "fig.show()"
   ]
  },
  {
   "cell_type": "markdown",
   "metadata": {},
   "source": [
    "# Let's work with our own data\n",
    "\n",
    "We will load raw MRI data (K-Space), which is saved in `ISMRM-RD` format. "
   ]
  },
  {
   "cell_type": "code",
   "execution_count": null,
   "metadata": {},
   "outputs": [],
   "source": [
    "from ismrmrd import Dataset as read_ismrmrd\n",
    "from ismrmrd.xsd import CreateFromDocument as parse_ismrmd_header\n",
    "import numpy as np\n",
    "# Here, we are just loading a 3D data into a numpy matrix, so that we can use plotly with it! \n",
    "dset = read_ismrmrd('Kspace/sub-ismrm_ses-sunrise_acq-chord1.h5', 'dataset')\n",
    "header = parse_ismrmd_header(dset.read_xml_header())\n",
    "nX = header.encoding[0].encodedSpace.matrixSize.x\n",
    "nY = header.encoding[0].encodedSpace.matrixSize.y\n",
    "nZ = header.encoding[0].encodedSpace.matrixSize.z\n",
    "nCoils = header.acquisitionSystemInformation.receiverChannels\n",
    "raw = np.zeros((nCoils, nX, nY), dtype=np.complex64)\n",
    "for tr in range(nY):\n",
    "    raw[:,:,tr] = dset.read_acquisition(tr).data"
   ]
  },
  {
   "cell_type": "markdown",
   "metadata": {},
   "source": [
    "## 100X100 matrix, 16 receive channels"
   ]
  },
  {
   "cell_type": "code",
   "execution_count": null,
   "metadata": {},
   "outputs": [],
   "source": [
    "raw.shape"
   ]
  },
  {
   "cell_type": "code",
   "execution_count": null,
   "metadata": {},
   "outputs": [],
   "source": [
    "fig = px.imshow(raw.real,color_continuous_scale='viridis',facet_col=0,facet_col_wrap=4,template='plotly_dark')\n",
    "fig.update_layout(title='Channel Raw')"
   ]
  },
  {
   "cell_type": "markdown",
   "metadata": {},
   "source": [
    "## Simple image reconstruction"
   ]
  },
  {
   "cell_type": "code",
   "execution_count": null,
   "metadata": {},
   "outputs": [],
   "source": [
    "from scipy.fft import fft2, fftshift\n",
    "from scipy import ndimage\n",
    "im = np.zeros(raw.shape)\n",
    "# Let's apply some ellipsoid filter. \n",
    "raw = ndimage.fourier_ellipsoid(fftshift(raw),size=2)\n",
    "#raw = ndimage.fourier_ellipsoid(raw,size=2)\n",
    "for ch in range(nCoils):\n",
    "    # Comment in and see what it gives \n",
    "    im[ch,:,:] = abs(fftshift(fft2(raw[ch,:,:])))\n",
    "    # Normalize \n",
    "    im[ch,:,:] /= im[ch,:,:].max()"
   ]
  },
  {
   "cell_type": "code",
   "execution_count": null,
   "metadata": {},
   "outputs": [],
   "source": [
    "fig = px.imshow(im,color_continuous_scale='viridis', animation_frame=0,template='plotly_dark')\n",
    "fig.update_layout(title='Channel Recon').show()"
   ]
  },
  {
   "cell_type": "markdown",
   "metadata": {},
   "source": [
    "## SAVE HTML OUTPUT\n",
    "* This is the file under the `.docs` directory, from which a `GitHub page` is served:\n",
    "\n",
    "![](gh_pages.png)"
   ]
  },
  {
   "cell_type": "code",
   "execution_count": null,
   "metadata": {},
   "outputs": [],
   "source": [
    "fig.write_html('multichannel.html')"
   ]
  }
 ],
 "metadata": {
  "kernelspec": {
   "display_name": "Python 3",
   "language": "python",
   "name": "python3"
  },
  "language_info": {
   "codemirror_mode": {
    "name": "ipython",
    "version": 3
   },
   "file_extension": ".py",
   "mimetype": "text/x-python",
   "name": "python",
   "nbconvert_exporter": "python",
   "pygments_lexer": "ipython3",
   "version": "3.6.12"
  }
 },
 "nbformat": 4,
 "nbformat_minor": 2
}
