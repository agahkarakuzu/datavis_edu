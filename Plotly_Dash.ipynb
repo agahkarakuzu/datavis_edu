{
 "cells": [
  {
   "cell_type": "markdown",
   "metadata": {},
   "source": [
    "# DASH \n",
    "\n",
    "[Dash](https://plotly.com/dash/) is a web application framework that allows you to develop interactive dashboards in Python."
   ]
  },
  {
   "cell_type": "code",
   "execution_count": null,
   "metadata": {},
   "outputs": [],
   "source": [
    "import dash\n",
    "import dash_core_components as dcc\n",
    "import dash_html_components as html\n",
    "from dash.dependencies import Input, Output, State"
   ]
  },
  {
   "cell_type": "markdown",
   "metadata": {},
   "source": [
    "With the [latest addition](https://github.com/plotly/jupyter-dash) `jupyter-dash`, we can render `dash` outputs `inline` 🎉🎊! Find about more in this [blogpost](https://medium.com/plotly/introducing-jupyterdash-811f1f57c02e)."
   ]
  },
  {
   "cell_type": "code",
   "execution_count": null,
   "metadata": {},
   "outputs": [],
   "source": [
    "# Let's import the brand new JupyterDash (05/20/2020)\n",
    "from jupyter_dash import JupyterDash\n",
    "# The following command uses Jupyter-Server-Proxy to authanticate Dash to communicate with JupyterHub. \n",
    "# Normally, Dash has nothing to do with Jupyter, but the following command magically binds them together :) \n",
    "JupyterDash.infer_jupyter_proxy_config()"
   ]
  },
  {
   "cell_type": "markdown",
   "metadata": {},
   "source": [
    "## Example 1: A simple `textbox` "
   ]
  },
  {
   "cell_type": "markdown",
   "metadata": {},
   "source": [
    "### Define `app`\n",
    "In a non-Jupyter environment, dash app is defined as following: \n",
    "```python\n",
    "external_stylesheets = ['https://codepen.io/chriddyp/pen/bWLwgP.css']\n",
    "app = dash.Dash(__name__,external_stylesheets=external_stylesheets)\n",
    "```\n",
    "\n",
    "In the notebook, we'll use `JupyterDash` instead of `dash.Dash`. The second argument `external_stylesheets` is to link an external `css`, giving our application its style."
   ]
  },
  {
   "cell_type": "code",
   "execution_count": null,
   "metadata": {},
   "outputs": [],
   "source": [
    "external_stylesheets = ['https://codepen.io/chriddyp/pen/bWLwgP.css']\n",
    "app = JupyterDash(__name__, external_stylesheets=external_stylesheets)"
   ]
  },
  {
   "cell_type": "markdown",
   "metadata": {},
   "source": [
    "### Define `server` (optional in Notebook)\n",
    "\n",
    "When deploying our app to production, we will create a `server` (Flask) object for our `app`. The flask object implements a WSGI (Web Service Gateway Interface) application and acts as the central object. When we use this with `gunicorn`, a WSGI HTTP server, we can serve our Dash application to the public internet! \n",
    "\n",
    "Don't get intimidated at all, in the [next step of this brainhack school tutorial](https://github.com/agahkarakuzu/dash_heroku), we'll achieve this with a few clicks 😎 "
   ]
  },
  {
   "cell_type": "code",
   "execution_count": null,
   "metadata": {},
   "outputs": [],
   "source": [
    "server = app.server"
   ]
  },
  {
   "cell_type": "markdown",
   "metadata": {},
   "source": [
    "### Define the `layout`\n",
    "\n",
    "The `layout` is the first main component of a `Dash` application. It decribes what the application looks like. \n",
    "\n",
    "The `layout` will be a tree of `html components` such as `div`,`h1`,`img`,`iframe` etc and `core components`, which are the interactive widgets. \n",
    "***\n",
    "When we import:\n",
    "\n",
    "```python\n",
    "import dash_html_components as html\n",
    "```\n",
    "\n",
    "basic HTML components will be accesible from the `html` object such as `html.Div`,`html.H1`, `html.Img`,`html.Iframe` etc. Click [**here**](https://dash.plotly.com/dash-html-components) for the complete list of Dash HTML components.\n",
    "***\n",
    "When we import:\n",
    "\n",
    "```python\n",
    "import dash_core_components as dcc\n",
    "```\n",
    "\n",
    "many widgets will be accessible from the `dcc` object such as `dcc.CheckList`, `dcc.Input` (textbox), `dcc.Slider` etc. Click [**here**](https://dash.plotly.com/dash-core-components) for the complete list of Dash core components.\n",
    "***"
   ]
  },
  {
   "cell_type": "markdown",
   "metadata": {},
   "source": [
    "Let's define a layout that has:\n",
    "* An input textbox \n",
    "* A simple `div`, a virtual box that can contain any type of HTML objects. "
   ]
  },
  {
   "cell_type": "code",
   "execution_count": null,
   "metadata": {},
   "outputs": [],
   "source": [
    "app.layout = html.Div([\n",
    "    dcc.Input(id='my-textbox', value='🙄type sth', type='text'),\n",
    "    html.Div(id='my-div')\n",
    "])"
   ]
  },
  {
   "cell_type": "markdown",
   "metadata": {},
   "source": [
    "Let's call our the `run_server` method of our `app`. It has the following options:\n",
    "\n",
    "* `external (default)` It will print out application's URL, to open it in a new tab. \n",
    "* `inline` Renders application in the notebook\n",
    "* `jupyterlab` Opens application in a new tab in Jupyter Lab.\n",
    "\n",
    "`JupyterDash.run_server` method doesn't block execution of the notebook. It serves the app in a background thread, making it possible to run other notebook calculations while the app is running."
   ]
  },
  {
   "cell_type": "code",
   "execution_count": null,
   "metadata": {},
   "outputs": [],
   "source": [
    "#app.run_server(mode=\"inline\")"
   ]
  },
  {
   "cell_type": "markdown",
   "metadata": {},
   "source": [
    "## Define the `callback`\n",
    "\n",
    "We decided which buttons to attach to our cockpit (`layout`). Let's define their function to take off! 🛫\n",
    "\n",
    "**Dash uses data-driven callbacks via decorators.** It associates `Input` and `Output` objects through a `function` wrapped by the `@app.callback` decorator:\n",
    "\n",
    "```python\n",
    "@app.callback(Output(),[Input()])\n",
    "def my_callback_function(input_var):\n",
    "    return output_var\n",
    "```\n",
    "\n",
    "**It works automagically, let's understand what's happening here:**\n",
    "\n",
    "These `Input` and `Output` objects are quite 🧠. Remember they come from the import:\n",
    "\n",
    "```python\n",
    "from dash.dependencies import Input, Output\n",
    "```\n",
    "\n",
    "Both objects require a `component_id` and a `component_property`:\n",
    "* `Input`:\n",
    "     * Take `component_property` from the layout entity with the `component_id` and assign it to `input_var`. \n",
    "***     \n",
    "* `Output`:\n",
    "     * Update `component_property` of the layout entity having `component_id` with `output_var` returned by `my_callback_function`."
   ]
  },
  {
   "cell_type": "markdown",
   "metadata": {},
   "source": [
    "Our first simple example will show the text entered in the textbox 🤯\n",
    " \n",
    "⚠️**Execute callback cells once**, otherwise you will create clones of your callback output, which will throw an exception as `Output` won't know what to do with many of them :) "
   ]
  },
  {
   "cell_type": "code",
   "execution_count": null,
   "metadata": {},
   "outputs": [],
   "source": [
    "@app.callback(\n",
    "    Output(component_id='my-div', component_property='children'),\n",
    "    [Input(component_id='my-textbox', component_property='value')]\n",
    ")\n",
    "def update_output_div(input_value):\n",
    "    return 'You\\'ve entered \"{}\"'.format(input_value)"
   ]
  },
  {
   "cell_type": "code",
   "execution_count": null,
   "metadata": {},
   "outputs": [],
   "source": [
    "# You can call run_server multiple times e.g., with different options.\n",
    "app.run_server(mode=\"external\")"
   ]
  },
  {
   "cell_type": "markdown",
   "metadata": {},
   "source": [
    "### Fancy `layout` with `dash-bootstrap-components`\n",
    "\n",
    "`dash-bootstrap-components` is a third party package that allows you to build consistently styled apps with complex, responsive layouts.\n",
    "\n",
    "You can use dbc.themes as stylesheets with this component. Full list:\n",
    "\n",
    "https://www.bootstrapcdn.com/bootswatch/"
   ]
  },
  {
   "cell_type": "code",
   "execution_count": null,
   "metadata": {},
   "outputs": [],
   "source": [
    "import dash_bootstrap_components as dbc\n",
    "\n",
    "app = JupyterDash(__name__,external_stylesheets=[dbc.themes.DARKLY])\n",
    "\n",
    "BHS_LOGO = \"https://rbiq-qbin.qc.ca/themes/rbiq/images/RBIQ_standard.gif\"\n",
    "\n",
    "search_bar = dbc.Row(\n",
    "    [\n",
    "        dbc.Col(dbc.Input(type=\"search\", placeholder=\"Search\")),\n",
    "        dbc.Col(\n",
    "            dbc.Button(\"Search\", color=\"primary\", className=\"ml-2\"),\n",
    "            width=\"auto\",\n",
    "        ),\n",
    "    ],\n",
    "    no_gutters=True,\n",
    "    className=\"ml-auto flex-nowrap mt-3 mt-md-0\",\n",
    "    align=\"center\",\n",
    ")\n",
    "\n",
    "# A navigation bar <3 Especially useful for multi-page dash apps (yes, it is possible!)\n",
    "navbar = dbc.Navbar(\n",
    "    [\n",
    "        html.A(\n",
    "            # Use row and col to control vertical alignment of logo / brand\n",
    "            dbc.Row(\n",
    "                [\n",
    "                    dbc.Col(html.Img(src=BHS_LOGO, height=\"60px\")),\n",
    "                    dbc.Col(dbc.NavbarBrand(\"SciComm Seminar Series 2021\", className=\"ml-2\",style={\"color\":\"limegreen\"})),\n",
    "                ],\n",
    "                align=\"center\",\n",
    "                no_gutters=True,\n",
    "            ),\n",
    "            href=\"https://plot.ly\",\n",
    "        ),\n",
    "        dbc.NavbarToggler(id=\"navbar-toggler\"),\n",
    "        dbc.Collapse(search_bar, id=\"navbar-collapse\", navbar=True),\n",
    "    ],\n",
    "    color=\"dark\",\n",
    "    dark=True,\n",
    ")\n",
    "\n",
    "# A card! \n",
    "card = dbc.Card(\n",
    "    [\n",
    "        dbc.CardImg(src=\"https://www.rbiq-qbin.qc.ca/dl2483?display\", top=True),\n",
    "        dbc.CardBody(\n",
    "            [\n",
    "                html.H4(\"Une feuille du petit cerveau soumis par Jemal Yesuf\", className=\"card-title\"),\n",
    "                html.P(\n",
    "                    \"Amazing people learning amazing stuff, \"\n",
    "                    \"still fun despite COVID-19. \\n\\n Update: 2021, still COVID :(\",\n",
    "                    className=\"card-text\",\n",
    "                ),\n",
    "                dbc.Button(\"Modal window\",id=\"open\", color=\"primary\"),\n",
    "            ]\n",
    "        ),\n",
    "    ],\n",
    "    style={\"width\": \"18rem\",\"margin-top\":\"1rem\",\"margin-left\":\"1rem\"},\n",
    ")\n",
    "\n",
    "\n",
    "# A modal window \n",
    "modal = dbc.Modal(\n",
    "            [\n",
    "                dbc.ModalHeader(\"No way!\"),\n",
    "                dbc.ModalBody(\"You can have modal windows 😻\"),\n",
    "                dbc.ModalFooter(\n",
    "                    dbc.Button(\"Close\", id=\"close\", className=\"ml-auto\")\n",
    "                    \n",
    "                ),\n",
    "            ],\n",
    "            id=\"modal\",\n",
    "        )\n",
    "\n",
    "\n",
    "\n",
    "\n",
    "\n",
    "\n",
    "app.layout = html.Div([\n",
    "    navbar,\n",
    "    modal,\n",
    "    dbc.Row([\n",
    "        dbc.Col(card,width=4),\n",
    "        dbc.Col(dbc.Progress(value=75, striped=True, animated=True,color=\"warning\"),width={\"size\": 3, \"offset\": 1},align=\"center\"),\n",
    "        dbc.Col([\n",
    "            dbc.Spinner(color=\"primary\", type=\"grow\"),\n",
    "            dbc.Spinner(color=\"secondary\"),\n",
    "            dbc.Spinner(color=\"success\", type=\"grow\"),\n",
    "            dbc.Spinner(color=\"warning\"),\n",
    "            dbc.Spinner(color=\"danger\", type=\"grow\"),\n",
    "            dbc.Spinner(color=\"info\"),\n",
    "            dbc.Spinner(color=\"light\", type=\"grow\")\n",
    "        ],width={\"size\": 4},align=\"center\")\n",
    "    ])\n",
    "])"
   ]
  },
  {
   "cell_type": "markdown",
   "metadata": {},
   "source": [
    "See how the `State` object is used to detect if the modal window is open."
   ]
  },
  {
   "cell_type": "code",
   "execution_count": null,
   "metadata": {},
   "outputs": [],
   "source": [
    "@app.callback(\n",
    "    Output(\"modal\", \"is_open\"),\n",
    "    [Input(\"open\", \"n_clicks\"), Input(\"close\", \"n_clicks\")],\n",
    "    [State(\"modal\", \"is_open\")],\n",
    ")\n",
    "def toggle_modal(n1, n2, is_open):\n",
    "    if n1 or n2:\n",
    "        return not is_open\n",
    "    return is_open"
   ]
  },
  {
   "cell_type": "code",
   "execution_count": null,
   "metadata": {},
   "outputs": [],
   "source": [
    "app.run_server('inline',debug=True)"
   ]
  },
  {
   "cell_type": "markdown",
   "metadata": {},
   "source": [
    "## Example 2: Update a `plot` with a `slider`\n",
    "\n",
    "In the following example, the `value` property of the `Slider` is the input of the app and the output of the app is the `figure` property of the `Graph`. \n",
    "\n",
    "Whenever the `value` of the `Slider` changes, Dash evokes the callback function `update_figure` with the new `value`. The function filters the dataframe `df` with this new `value`, constructs a `figure` object, and returns it to the Dash application.\n",
    "\n",
    "There are a few nice patterns in this example:\n",
    "\n",
    "* We're using the Pandas library for importing and filtering datasets in memory. \n",
    "\n",
    "* We load our dataframe at the start of the app: `df = pd.read_csv('...')`. This dataframe df is in the global state of the app and can be read inside the callback functions.\n",
    "\n",
    "* Loading data into memory can be expensive. By loading querying data at the start of the app instead of inside the callback functions, we ensure that this operation is only done when the app starts. When a user visits the app or interacts with the app, that data (the `df`) is already in memory. If possible, expensive initialization (like downloading or querying data) should be done in the global scope of the app instead of within the callback functions.\n",
    "\n",
    "* The callback does not modify the original data, it just creates copies of the dataframe by filtered through pandas filters. This is important: your callbacks should never mutate variables outside of their scope. If your callbacks modify global state, then one user's session might affect the next user's session and when the app is deployed on multiple processes or threads, those modifications will not be shared across sessions."
   ]
  },
  {
   "cell_type": "code",
   "execution_count": null,
   "metadata": {},
   "outputs": [],
   "source": [
    "import pandas as pd\n",
    "import plotly.graph_objs as go\n",
    "\n",
    "df = pd.read_csv(\n",
    "    'https://raw.githubusercontent.com/plotly/'\n",
    "    'datasets/master/gapminderDataFiveYear.csv')\n",
    "\n",
    "external_stylesheets = ['https://codepen.io/chriddyp/pen/bWLwgP.css']\n",
    "app = JupyterDash(__name__, external_stylesheets=external_stylesheets)\n",
    "\n",
    "app.layout = html.Div([\n",
    "    dcc.Graph(id='graph-with-slider'),\n",
    "    dcc.Slider(\n",
    "        id='year-slider',\n",
    "        min=df['year'].min(),\n",
    "        max=df['year'].max(),\n",
    "        value=df['year'].min(),\n",
    "        marks={str(year): str(year) for year in df['year'].unique()},\n",
    "        step=None\n",
    "    )\n",
    "])\n",
    "\n",
    "\n",
    "@app.callback(\n",
    "    Output('graph-with-slider', 'figure'),\n",
    "    [Input('year-slider', 'value')])\n",
    "def update_figure(selected_year):\n",
    "    filtered_df = df[df.year == selected_year]\n",
    "    traces = []\n",
    "    for i in filtered_df.continent.unique():\n",
    "        df_by_continent = filtered_df[filtered_df['continent'] == i]\n",
    "        traces.append(go.Scatter(\n",
    "            x=df_by_continent['gdpPercap'],\n",
    "            y=df_by_continent['lifeExp'],\n",
    "            text=df_by_continent['country'],\n",
    "            mode='markers',\n",
    "            opacity=0.7,\n",
    "            marker={\n",
    "                'size': 15,\n",
    "                'line': {'width': 0.5, 'color': 'white'}\n",
    "            },\n",
    "            name=i\n",
    "        ))\n",
    "\n",
    "    return {\n",
    "        'data': traces,\n",
    "        'layout': go.Layout(\n",
    "            xaxis={'type': 'log', 'title': 'GDP Per Capita'},\n",
    "            yaxis={'title': 'Life Expectancy', 'range': [20, 90]},\n",
    "            margin={'l': 40, 'b': 40, 't': 10, 'r': 10},\n",
    "            legend={'x': 0, 'y': 1},\n",
    "            hovermode='closest'\n",
    "        )\n",
    "    }\n"
   ]
  },
  {
   "cell_type": "code",
   "execution_count": null,
   "metadata": {},
   "outputs": [],
   "source": [
    "app.run_server('inline')"
   ]
  },
  {
   "cell_type": "markdown",
   "metadata": {},
   "source": [
    "## Example 3: Update a plot with multiple inputs\n",
    "\n",
    "In Dash, any `Output` can have multiple `Input` components. \n",
    "\n",
    "Here's a simple example that binds five `Input`s:\n",
    "* 2 `Dropdown`\n",
    "* 2 `RadioItem`\n",
    "* 1 `Slider`\n",
    "\n",
    "to the `figure` property of the Graph component.\n",
    "\n",
    "Notice how the `app.callback` lists all five `dash.dependencies.Input` inside a list in the second argument."
   ]
  },
  {
   "cell_type": "code",
   "execution_count": null,
   "metadata": {},
   "outputs": [],
   "source": [
    "\n",
    "external_stylesheets = ['https://codepen.io/chriddyp/pen/bWLwgP.css']\n",
    "app = JupyterDash(__name__, external_stylesheets=external_stylesheets)\n",
    "\n",
    "df = pd.read_csv(\n",
    "    'https://gist.githubusercontent.com/chriddyp/'\n",
    "    'cb5392c35661370d95f300086accea51/raw/'\n",
    "    '8e0768211f6b747c0db42a9ce9a0937dafcbd8b2/'\n",
    "    'indicators.csv')\n",
    "\n",
    "available_indicators = df['Indicator Name'].unique()\n",
    "\n",
    "app.layout = html.Div([\n",
    "    html.Div([\n",
    "\n",
    "        html.Div([\n",
    "            dcc.Dropdown(\n",
    "                id='xaxis-column',\n",
    "                options=[{'label': i, 'value': i} for i in available_indicators],\n",
    "                value='Fertility rate, total (births per woman)'\n",
    "            ),\n",
    "            dcc.RadioItems(\n",
    "                id='xaxis-type',\n",
    "                options=[{'label': i, 'value': i} for i in ['Linear', 'Log']],\n",
    "                value='Linear',\n",
    "                labelStyle={'display': 'inline-block'}\n",
    "            )\n",
    "        ],\n",
    "        style={'width': '48%', 'display': 'inline-block'}),\n",
    "\n",
    "        html.Div([\n",
    "            dcc.Dropdown(\n",
    "                id='yaxis-column',\n",
    "                options=[{'label': i, 'value': i} for i in available_indicators],\n",
    "                value='Life expectancy at birth, total (years)'\n",
    "            ),\n",
    "            dcc.RadioItems(\n",
    "                id='yaxis-type',\n",
    "                options=[{'label': i, 'value': i} for i in ['Linear', 'Log']],\n",
    "                value='Linear',\n",
    "                labelStyle={'display': 'inline-block'}\n",
    "            )\n",
    "        ],style={'width': '48%', 'float': 'right', 'display': 'inline-block'})\n",
    "    ]),\n",
    "\n",
    "    dcc.Graph(id='indicator-graphic'),\n",
    "\n",
    "    dcc.Slider(\n",
    "        id='year--slider',\n",
    "        min=df['Year'].min(),\n",
    "        max=df['Year'].max(),\n",
    "        value=df['Year'].max(),\n",
    "        marks={str(year): str(year) for year in df['Year'].unique()},\n",
    "        step=None\n",
    "    )\n",
    "])\n",
    "\n",
    "@app.callback(\n",
    "    Output('indicator-graphic', 'figure'),\n",
    "    [Input('xaxis-column', 'value'),\n",
    "     Input('yaxis-column', 'value'),\n",
    "     Input('xaxis-type', 'value'),\n",
    "     Input('yaxis-type', 'value'),\n",
    "     Input('year--slider', 'value')])\n",
    "def update_graph(xaxis_column_name, yaxis_column_name,\n",
    "                 xaxis_type, yaxis_type,\n",
    "                 year_value):\n",
    "    dff = df[df['Year'] == year_value]\n",
    "\n",
    "    return {\n",
    "        'data': [go.Scatter(\n",
    "            x=dff[dff['Indicator Name'] == xaxis_column_name]['Value'],\n",
    "            y=dff[dff['Indicator Name'] == yaxis_column_name]['Value'],\n",
    "            text=dff[dff['Indicator Name'] == yaxis_column_name]['Country Name'],\n",
    "            mode='markers',\n",
    "            marker={\n",
    "                'size': 15,\n",
    "                'opacity': 0.5,\n",
    "                'line': {'width': 0.5, 'color': 'white'}\n",
    "            }\n",
    "        )],\n",
    "        'layout': go.Layout(\n",
    "            xaxis={\n",
    "                'title': xaxis_column_name,\n",
    "                'type': 'linear' if xaxis_type == 'Linear' else 'log'\n",
    "            },\n",
    "            yaxis={\n",
    "                'title': yaxis_column_name,\n",
    "                'type': 'linear' if yaxis_type == 'Linear' else 'log'\n",
    "            },\n",
    "            margin={'l': 40, 'b': 40, 't': 10, 'r': 0},\n",
    "            hovermode='closest'\n",
    "        )\n",
    "    }\n",
    "\n",
    "app.run_server('inline')"
   ]
  },
  {
   "cell_type": "markdown",
   "metadata": {},
   "source": [
    "## See more examples\n",
    "\n",
    "See this [great collection of dash applications](https://github.com/plotly/dash-sample-apps/tree/master/apps).\n",
    "\n",
    "P.S. There is a cool [🧠viewer](https://github.com/plotly/dash-sample-apps/tree/master/apps/dash-brain-viewer).\n"
   ]
  },
  {
   "cell_type": "markdown",
   "metadata": {},
   "source": [
    "## Deploy your Dashboard to Heroku\n",
    "\n",
    "Repo containing dash app & instructions: https://github.com/agahkarakuzu/dash_heroku\n",
    "\n",
    "Deployed dashboard: https://dash-brainhack.herokuapp.com/\n"
   ]
  }
 ],
 "metadata": {
  "kernelspec": {
   "display_name": "Python 3",
   "language": "python",
   "name": "python3"
  },
  "language_info": {
   "codemirror_mode": {
    "name": "ipython",
    "version": 3
   },
   "file_extension": ".py",
   "mimetype": "text/x-python",
   "name": "python",
   "nbconvert_exporter": "python",
   "pygments_lexer": "ipython3",
   "version": "3.6.12"
  }
 },
 "nbformat": 4,
 "nbformat_minor": 4
}
